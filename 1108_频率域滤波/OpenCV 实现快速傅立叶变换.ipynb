{
 "cells": [
  {
   "cell_type": "markdown",
   "id": "151a538d",
   "metadata": {},
   "source": [
    "在OpenCV中，对于行数和列数都可以分解为 $2^p3^q5^r$ 的矩阵，函数`cv.dft`采用快速傅立叶变换，可以提高运行速度。\n",
    "因此，推荐将图像的尺寸扩充为2、3、5的整数倍"
   ]
  },
  {
   "cell_type": "markdown",
   "id": "c5c62930",
   "metadata": {},
   "source": [
    "`cv.getOptimalDFTSize` 用于根据输入的数组长度计算快速傅立叶变换的最优扩充尺寸"
   ]
  },
  {
   "cell_type": "code",
   "execution_count": 7,
   "id": "1f9de805",
   "metadata": {},
   "outputs": [],
   "source": [
    "import cv2 as cv\n",
    "import numpy as np\n",
    "from matplotlib import pyplot as plt"
   ]
  },
  {
   "cell_type": "code",
   "execution_count": 2,
   "id": "888c70c4",
   "metadata": {},
   "outputs": [
    {
     "data": {
      "text/plain": [
       "array([[0, 0, 0, ..., 0, 0, 0],\n",
       "       [0, 0, 0, ..., 0, 0, 0],\n",
       "       [0, 0, 0, ..., 0, 0, 0],\n",
       "       ...,\n",
       "       [0, 0, 0, ..., 0, 0, 0],\n",
       "       [0, 0, 0, ..., 0, 0, 0],\n",
       "       [0, 0, 0, ..., 0, 0, 0]], dtype=uint8)"
      ]
     },
     "execution_count": 2,
     "metadata": {},
     "output_type": "execute_result"
    }
   ],
   "source": [
    "# (1) 创建原始图像\n",
    "img = np.zeros((1101, 1821), np.uint8)\n",
    "cv.rectangle(img, (100, 100), (900,900), 128, -1)  # 白色\n",
    "cv.circle(img, (500, 500), 306, 225, -1)  # -1 表示内部填充"
   ]
  },
  {
   "cell_type": "code",
   "execution_count": 9,
   "id": "baa05597",
   "metadata": {},
   "outputs": [
    {
     "data": {
      "text/plain": [
       "<matplotlib.image.AxesImage at 0x1d14c767160>"
      ]
     },
     "execution_count": 9,
     "metadata": {},
     "output_type": "execute_result"
    },
    {
     "data": {
      "image/png": "[encoded data removed]",
      "text/plain": [
       "<Figure size 640x480 with 1 Axes>"
      ]
     },
     "metadata": {},
     "output_type": "display_data"
    }
   ],
   "source": [
    "plt.imshow(img, cmap='gray')"
   ]
  },
  {
   "cell_type": "code",
   "execution_count": 3,
   "id": "a4a52045",
   "metadata": {},
   "outputs": [
    {
     "name": "stdout",
     "output_type": "stream",
     "text": [
      "FFT with size (1101, 1821) by Numpy: 0.2021 sec\n"
     ]
    }
   ],
   "source": [
    "# (2) Numpy 实现快速傅里叶变换\n",
    "timeBegin = cv.getTickCount()\n",
    "fft = np.fft.fft2(img)  # 傅里叶变换，fft 是复数数组\n",
    "timeEnd = cv.getTickCount()\n",
    "time = (timeEnd - timeBegin) / cv.getTickFrequency()\n",
    "print(\"FFT with size {} by Numpy: {} sec\".format(img.shape, round(time, 4)))"
   ]
  },
  {
   "cell_type": "code",
   "execution_count": 4,
   "id": "674548e4",
   "metadata": {},
   "outputs": [
    {
     "name": "stdout",
     "output_type": "stream",
     "text": [
      "DFT with size (1101, 1821) by OpenCV: 0.0279 sec\n"
     ]
    }
   ],
   "source": [
    "# (3) OpenCV 非最优尺寸的图像傅里叶变换\n",
    "imgFloat = img.astype(np.float32)  # 将图像转换成 float32\n",
    "timeBegin = cv.getTickCount()\n",
    "dft = cv.dft(imgFloat, flags=cv.DFT_COMPLEX_OUTPUT)  # (1101, 1820,2)\n",
    "timeEnd = cv.getTickCount()\n",
    "time = (timeEnd - timeBegin) / cv.getTickFrequency()\n",
    "print(\"DFT with size {} by OpenCV: {} sec\".format(img.shape, round(time, 4)))"
   ]
  },
  {
   "cell_type": "code",
   "execution_count": 5,
   "id": "394218c4",
   "metadata": {},
   "outputs": [
    {
     "name": "stdout",
     "output_type": "stream",
     "text": [
      "DFT with optimized size (1125, 1875) by OpenCV: 0.0157 sec\n"
     ]
    }
   ],
   "source": [
    "# (4) OpenCV 最优尺寸扩充的快速傅里叶变换\n",
    "timeBegin = cv.getTickCount()\n",
    "height, width = img.shape[:2]  # 高度，宽度\n",
    "hPad = cv.getOptimalDFTSize(height)  # DFT 最优尺寸\n",
    "wPad = cv.getOptimalDFTSize(width)\n",
    "imgOpt = np.zeros((hPad, wPad), np.float32)  # 初始化扩充图像\n",
    "imgOpt[:height, :width] = imgFloat  # 下侧和右侧补 0\n",
    "dftOpt = cv.dft(imgOpt, cv.DFT_COMPLEX_OUTPUT)  # 傅里叶变换\n",
    "timeEnd = cv.getTickCount()\n",
    "time = (timeEnd - timeBegin) / cv.getTickFrequency()\n",
    "print(\"DFT with optimized size {} by OpenCV: {} sec\".format(imgOpt.shape, round(time, 4)))"
   ]
  },
  {
   "cell_type": "code",
   "execution_count": null,
   "id": "12f9037f",
   "metadata": {},
   "outputs": [],
   "source": []
  }
 ],
 "metadata": {
  "kernelspec": {
   "display_name": "Python 3 (ipykernel)",
   "language": "python",
   "name": "python3"
  },
  "language_info": {
   "codemirror_mode": {
    "name": "ipython",
    "version": 3
   },
   "file_extension": ".py",
   "mimetype": "text/x-python",
   "name": "python",
   "nbconvert_exporter": "python",
   "pygments_lexer": "ipython3",
   "version": "3.9.18"
  }
 },
 "nbformat": 4,
 "nbformat_minor": 5
}
